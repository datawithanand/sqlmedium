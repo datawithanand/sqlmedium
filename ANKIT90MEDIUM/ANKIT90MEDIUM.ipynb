{
 "metadata": {
  "kernelspec": {
   "display_name": "Streamlit Notebook",
   "name": "streamlit"
  },
  "lastEditStatus": {
   "notebookId": "xqiuuiernw7dojz4zr4w",
   "authorId": "3158684672522",
   "authorName": "ANANDSURESH",
   "authorEmail": "anandsuresh05@gmail.com",
   "sessionId": "db2386eb-2fe0-4ded-a675-8cd598f0dbee",
   "lastEditTime": 1758589530677
  }
 },
 "nbformat_minor": 5,
 "nbformat": 4,
 "cells": [
  {
   "cell_type": "code",
   "id": "8f286fbf-5eb1-4b7d-b82c-198ab0abc8ed",
   "metadata": {
    "language": "sql",
    "name": "_01_day01_question"
   },
   "outputs": [],
   "source": "-- Complex SQL Query 1 | Derive Points table for ICC tournament\n\n/*select\n    team_name, count(1) as no_of_matches_play,\n    sum(win_flag) as no_of_matches_won,\n    count(1) - sum(win_flag) as no_of_matches_loss\nFROM\n(\n    select\n        team_1 as team_name, case when team_1 = winner then 1 else 0 end as win_flag\n    from icc_world_cup\n    UNION ALL\n    select\n        team_2 as team_name, case when team_2 = winner then 1 else 0 end as win_flag\n    from icc_world_cup\n) t\ngroup by team_name\norder by no_of_matches_won desc;*/\n\n\nWITH icc_match_info as\n(\n    select team_1 as team_name, winner from icc_world_cup\n    union all\n    select team_2 as team_name, winner from icc_world_cup\n)\n\nselect \n    team_name,\n    count(*) as total_matches_played,\n    sum(case when team_name = winner then 1 else 0 end) as no_of_wins,\n    sum(case when team_name != winner then 1 else 0 end) as no_of_loss\nfrom icc_match_info\ngroup by team_name\norder by no_of_wins desc, team_name",
   "execution_count": null
  },
  {
   "cell_type": "code",
   "id": "f8f7670b-ed4d-4d32-93aa-73c7d80e3222",
   "metadata": {
    "language": "sql",
    "name": "_02_day01_question"
   },
   "outputs": [],
   "source": "-- Complex SQL 2 | find new and repeat customers | SQL Interview Questions\n-- order_date, new_customer_count, repeat_customer_count\n\n\nWITH first_visit as\n(\n    select\n        customer_id,\n        min(order_date) as first_visit_date\n    from customer_orders\n    group by customer_id\n)\nselect\n    co.order_date,\n    sum(case when order_date = first_visit_date then 1 else 0 end) as new_cust_count,\n    sum(case when order_date != first_visit_date then 1 else 0 end) as repeat_cust_count\nfrom \n    customer_orders co join first_visit fv\non \n    co.customer_id = fv.customer_id\ngroup by \n    co.order_date\n\n-- I was asked this same question today in amazon interview. The question was lil changed but concept was same. They needed new user counts in a year 2022 only and wanted the output to be displayed as weekly level. So for week 1 how many new users till week 52. I was able to solve this though i took some time not sure if they judge on the speed as well. Thanks for this video",
   "execution_count": null
  },
  {
   "cell_type": "code",
   "id": "56eee8f5-ffe8-4ad6-a187-e093d890c001",
   "metadata": {
    "language": "sql",
    "name": "_03_day02_question"
   },
   "outputs": [],
   "source": "with \ntotal_visits as (\n  select name, count(1) as total_visits, LISTAGG(DISTINCT resources, ', ') WITHIN GROUP (ORDER BY resources) AS resources_used,\n  from entries \n  group by name \n),\nfloor_visit as (\n  select \n    name, floor, count(1) no_of_floor_visit, \n    rank() over(partition by name order by count(1) desc) as rn \n  from entries \n  group by name, floor\n)\nselect \n    fv.name, \n    tv.total_visits, \n    fv.floor as most_visited_floor,\n    tv.resources_used\nfrom floor_visit fv\ninner join total_visits tv on fv.name = tv.name\nwhere rn = 1\norder by name",
   "execution_count": null
  },
  {
   "cell_type": "code",
   "id": "6c8ef3db-ecd3-4338-8749-fd5e4a488e0f",
   "metadata": {
    "language": "sql",
    "name": "_04_day02_question"
   },
   "outputs": [],
   "source": "",
   "execution_count": null
  }
 ]
}