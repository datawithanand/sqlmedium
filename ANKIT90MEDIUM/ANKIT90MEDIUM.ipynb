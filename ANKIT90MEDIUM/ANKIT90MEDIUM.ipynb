{
 "metadata": {
  "kernelspec": {
   "display_name": "Streamlit Notebook",
   "name": "streamlit"
  },
  "lastEditStatus": {
   "notebookId": "xqiuuiernw7dojz4zr4w",
   "authorId": "3158684672522",
   "authorName": "ANANDSURESH",
   "authorEmail": "anandsuresh05@gmail.com",
   "sessionId": "2ca64362-5f49-4f65-8e23-b98a04d1a590",
   "lastEditTime": 1758536279914
  }
 },
 "nbformat_minor": 5,
 "nbformat": 4,
 "cells": [
  {
   "cell_type": "code",
   "id": "80fe669d-2697-453e-9a35-f4e07f992d6a",
   "metadata": {
    "language": "sql",
    "name": "cell1"
   },
   "outputs": [],
   "source": "select  * from icc_world_cup",
   "execution_count": null
  },
  {
   "cell_type": "code",
   "id": "8f286fbf-5eb1-4b7d-b82c-198ab0abc8ed",
   "metadata": {
    "language": "sql",
    "name": "cell2"
   },
   "outputs": [],
   "source": "-- Complex SQL Query 1 | Derive Points table for ICC tournament\n\nselect\n    team_name, count(1) as no_of_matches_play,\n    sum(win_flag) as no_of_matches_won,\n    count(1) - sum(win_flag) as no_of_matches_loss\nFROM\n(\n    select\n        team_1 as team_name, case when team_1 = winner then 1 else 0 end as win_flag\n    from icc_world_cup\n    UNION ALL\n    select\n        team_2 as team_name, case when team_2 = winner then 1 else 0 end as win_flag\n    from icc_world_cup\n) t\ngroup by team_name\norder by no_of_matches_won desc;\n\n\nWITH icc_match_info as\n(\n    select team_1 as team_name, winner from icc_world_cup\n    union all\n    select team_2 as team_name, winner from icc_world_cup\n)\n\nselect \n    team_name,\n    count(*) as total_matches_played,\n    sum(case when team_name = winner then 1 else 0 end) as no_of_wins,\n    sum(case when team_name != winner then 1 else 0 end) as no_of_loss\nfrom icc_match_info\ngroup by team_name\norder by no_of_wins desc, team_name",
   "execution_count": null
  }
 ]
}